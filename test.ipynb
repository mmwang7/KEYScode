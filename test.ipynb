{
 "cells": [
  {
   "cell_type": "code",
   "execution_count": null,
   "id": "44403d2c",
   "metadata": {},
   "outputs": [],
   "source": [
    "# Importing\n",
    "\n",
    "import pandas as pd\n",
    "\n",
    "df = pd.read_csv('2016/PMC4207242-arizona-out.tsv', encoding='utf-8', sep='\\t')"
   ]
  },
  {
   "cell_type": "code",
   "execution_count": null,
   "id": "8d46a4d2",
   "metadata": {},
   "outputs": [],
   "source": [
    "# Dropping unneeded columns\n",
    "\n",
    "cols = list(df.columns.values)\n",
    "df = df.drop(columns = cols[5:15])\n",
    "df"
   ]
  },
  {
   "cell_type": "code",
   "execution_count": null,
   "id": "d59778db",
   "metadata": {},
   "outputs": [],
   "source": [
    "# Remove 'bad' data (uaz code)\n",
    "\n",
    "pattern = '::uaz:'\n",
    "df['UAZ?'] = df['OUTPUT'].str.contains(pattern)\n",
    "df = df[df['UAZ?'] != True]\n",
    "df = df.drop(columns = 'UAZ?')\n",
    "df"
   ]
  },
  {
   "cell_type": "code",
   "execution_count": null,
   "id": "110f7ac1",
   "metadata": {},
   "outputs": [],
   "source": [
    "# Indexing and replacing inputs\n",
    "\n",
    "el = r'E + [0-9]'\n",
    "print(df.contains(el))"
   ]
  },
  {
   "cell_type": "code",
   "execution_count": null,
   "id": "a5738f00",
   "metadata": {},
   "outputs": [],
   "source": []
  }
 ],
 "metadata": {
  "kernelspec": {
   "display_name": "Python 3",
   "language": "python",
   "name": "python3"
  },
  "language_info": {
   "codemirror_mode": {
    "name": "ipython",
    "version": 3
   },
   "file_extension": ".py",
   "mimetype": "text/x-python",
   "name": "python",
   "nbconvert_exporter": "python",
   "pygments_lexer": "ipython3",
   "version": "3.8.5"
  }
 },
 "nbformat": 4,
 "nbformat_minor": 5
}
